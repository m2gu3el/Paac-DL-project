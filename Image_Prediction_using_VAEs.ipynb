{
  "nbformat": 4,
  "nbformat_minor": 0,
  "metadata": {
    "colab": {
      "provenance": [],
      "gpuType": "T4",
      "authorship_tag": "ABX9TyMyecK4O4u9/4ZHl9987Wk2",
      "include_colab_link": true
    },
    "kernelspec": {
      "name": "python3",
      "display_name": "Python 3"
    },
    "language_info": {
      "name": "python"
    },
    "accelerator": "GPU"
  },
  "cells": [
    {
      "cell_type": "markdown",
      "metadata": {
        "id": "view-in-github",
        "colab_type": "text"
      },
      "source": [
        "<a href=\"https://colab.research.google.com/github/m2gu3el/Paac-DL-project/blob/main/Image_Prediction_using_VAEs.ipynb\" target=\"_parent\"><img src=\"https://colab.research.google.com/assets/colab-badge.svg\" alt=\"Open In Colab\"/></a>"
      ]
    },
    {
      "cell_type": "code",
      "execution_count": null,
      "metadata": {
        "id": "gplqiFEeHUX_"
      },
      "outputs": [],
      "source": [
        "import tensorflow as tf\n",
        "from tensorflow.keras import datasets, models, Sequential\n",
        "from tensorflow.keras.layers import Dense, Flatten, Conv2D, MaxPooling2D, Dropout,Input, Lambda, Reshape, Conv2DTranspose, GlobalAvgPool2D, Conv1D, MaxPooling1D,LeakyReLU\n",
        "import matplotlib.pyplot as plt\n",
        "import numpy as np\n",
        "from tensorflow import keras\n",
        "import tensorflow._api.v2.compat.v1 as tf\n",
        "tf.disable_v2_behavior()"
      ]
    },
    {
      "cell_type": "code",
      "source": [
        "!pip install astroNN"
      ],
      "metadata": {
        "colab": {
          "base_uri": "https://localhost:8080/"
        },
        "id": "2IiqvAhNHupz",
        "outputId": "b5b76d25-a994-4f55-b35c-7117fb9ce1a1"
      },
      "execution_count": null,
      "outputs": [
        {
          "output_type": "stream",
          "name": "stdout",
          "text": [
            "Collecting astroNN\n",
            "  Downloading astroNN-1.1.0-py3-none-any.whl (9.3 MB)\n",
            "\u001b[2K     \u001b[90m━━━━━━━━━━━━━━━━━━━━━━━━━━━━━━━━━━━━━━━━\u001b[0m \u001b[32m9.3/9.3 MB\u001b[0m \u001b[31m14.5 MB/s\u001b[0m eta \u001b[36m0:00:00\u001b[0m\n",
            "\u001b[?25hRequirement already satisfied: numpy in /usr/local/lib/python3.10/dist-packages (from astroNN) (1.23.5)\n",
            "Requirement already satisfied: astropy in /usr/local/lib/python3.10/dist-packages (from astroNN) (5.3.4)\n",
            "Requirement already satisfied: h5py in /usr/local/lib/python3.10/dist-packages (from astroNN) (3.9.0)\n",
            "Requirement already satisfied: matplotlib in /usr/local/lib/python3.10/dist-packages (from astroNN) (3.7.1)\n",
            "Collecting astroquery (from astroNN)\n",
            "  Downloading astroquery-0.4.6-py3-none-any.whl (4.5 MB)\n",
            "\u001b[2K     \u001b[90m━━━━━━━━━━━━━━━━━━━━━━━━━━━━━━━━━━━━━━━━\u001b[0m \u001b[32m4.5/4.5 MB\u001b[0m \u001b[31m37.2 MB/s\u001b[0m eta \u001b[36m0:00:00\u001b[0m\n",
            "\u001b[?25hRequirement already satisfied: pandas in /usr/local/lib/python3.10/dist-packages (from astroNN) (1.5.3)\n",
            "Requirement already satisfied: scikit-learn in /usr/local/lib/python3.10/dist-packages (from astroNN) (1.2.2)\n",
            "Requirement already satisfied: tqdm in /usr/local/lib/python3.10/dist-packages (from astroNN) (4.66.1)\n",
            "Requirement already satisfied: packaging in /usr/local/lib/python3.10/dist-packages (from astroNN) (23.2)\n",
            "Requirement already satisfied: tensorflow>=2.11.0 in /usr/local/lib/python3.10/dist-packages (from astroNN) (2.15.0)\n",
            "Requirement already satisfied: tensorflow-probability>=0.19.0 in /usr/local/lib/python3.10/dist-packages (from astroNN) (0.22.0)\n",
            "Requirement already satisfied: absl-py>=1.0.0 in /usr/local/lib/python3.10/dist-packages (from tensorflow>=2.11.0->astroNN) (1.4.0)\n",
            "Requirement already satisfied: astunparse>=1.6.0 in /usr/local/lib/python3.10/dist-packages (from tensorflow>=2.11.0->astroNN) (1.6.3)\n",
            "Requirement already satisfied: flatbuffers>=23.5.26 in /usr/local/lib/python3.10/dist-packages (from tensorflow>=2.11.0->astroNN) (23.5.26)\n",
            "Requirement already satisfied: gast!=0.5.0,!=0.5.1,!=0.5.2,>=0.2.1 in /usr/local/lib/python3.10/dist-packages (from tensorflow>=2.11.0->astroNN) (0.5.4)\n",
            "Requirement already satisfied: google-pasta>=0.1.1 in /usr/local/lib/python3.10/dist-packages (from tensorflow>=2.11.0->astroNN) (0.2.0)\n",
            "Requirement already satisfied: libclang>=13.0.0 in /usr/local/lib/python3.10/dist-packages (from tensorflow>=2.11.0->astroNN) (16.0.6)\n",
            "Requirement already satisfied: ml-dtypes~=0.2.0 in /usr/local/lib/python3.10/dist-packages (from tensorflow>=2.11.0->astroNN) (0.2.0)\n",
            "Requirement already satisfied: opt-einsum>=2.3.2 in /usr/local/lib/python3.10/dist-packages (from tensorflow>=2.11.0->astroNN) (3.3.0)\n",
            "Requirement already satisfied: protobuf!=4.21.0,!=4.21.1,!=4.21.2,!=4.21.3,!=4.21.4,!=4.21.5,<5.0.0dev,>=3.20.3 in /usr/local/lib/python3.10/dist-packages (from tensorflow>=2.11.0->astroNN) (3.20.3)\n",
            "Requirement already satisfied: setuptools in /usr/local/lib/python3.10/dist-packages (from tensorflow>=2.11.0->astroNN) (67.7.2)\n",
            "Requirement already satisfied: six>=1.12.0 in /usr/local/lib/python3.10/dist-packages (from tensorflow>=2.11.0->astroNN) (1.16.0)\n",
            "Requirement already satisfied: termcolor>=1.1.0 in /usr/local/lib/python3.10/dist-packages (from tensorflow>=2.11.0->astroNN) (2.4.0)\n",
            "Requirement already satisfied: typing-extensions>=3.6.6 in /usr/local/lib/python3.10/dist-packages (from tensorflow>=2.11.0->astroNN) (4.5.0)\n",
            "Requirement already satisfied: wrapt<1.15,>=1.11.0 in /usr/local/lib/python3.10/dist-packages (from tensorflow>=2.11.0->astroNN) (1.14.1)\n",
            "Requirement already satisfied: tensorflow-io-gcs-filesystem>=0.23.1 in /usr/local/lib/python3.10/dist-packages (from tensorflow>=2.11.0->astroNN) (0.34.0)\n",
            "Requirement already satisfied: grpcio<2.0,>=1.24.3 in /usr/local/lib/python3.10/dist-packages (from tensorflow>=2.11.0->astroNN) (1.60.0)\n",
            "Requirement already satisfied: tensorboard<2.16,>=2.15 in /usr/local/lib/python3.10/dist-packages (from tensorflow>=2.11.0->astroNN) (2.15.1)\n",
            "Requirement already satisfied: tensorflow-estimator<2.16,>=2.15.0 in /usr/local/lib/python3.10/dist-packages (from tensorflow>=2.11.0->astroNN) (2.15.0)\n",
            "Requirement already satisfied: keras<2.16,>=2.15.0 in /usr/local/lib/python3.10/dist-packages (from tensorflow>=2.11.0->astroNN) (2.15.0)\n",
            "Requirement already satisfied: decorator in /usr/local/lib/python3.10/dist-packages (from tensorflow-probability>=0.19.0->astroNN) (4.4.2)\n",
            "Requirement already satisfied: cloudpickle>=1.3 in /usr/local/lib/python3.10/dist-packages (from tensorflow-probability>=0.19.0->astroNN) (2.2.1)\n",
            "Requirement already satisfied: dm-tree in /usr/local/lib/python3.10/dist-packages (from tensorflow-probability>=0.19.0->astroNN) (0.1.8)\n",
            "Requirement already satisfied: pyerfa>=2.0 in /usr/local/lib/python3.10/dist-packages (from astropy->astroNN) (2.0.1.1)\n",
            "Requirement already satisfied: PyYAML>=3.13 in /usr/local/lib/python3.10/dist-packages (from astropy->astroNN) (6.0.1)\n",
            "Requirement already satisfied: requests>=2.4.3 in /usr/local/lib/python3.10/dist-packages (from astroquery->astroNN) (2.31.0)\n",
            "Requirement already satisfied: beautifulsoup4>=4.3.2 in /usr/local/lib/python3.10/dist-packages (from astroquery->astroNN) (4.11.2)\n",
            "Requirement already satisfied: html5lib>=0.999 in /usr/local/lib/python3.10/dist-packages (from astroquery->astroNN) (1.1)\n",
            "Requirement already satisfied: keyring>=4.0 in /usr/lib/python3/dist-packages (from astroquery->astroNN) (23.5.0)\n",
            "Collecting pyvo>=1.1 (from astroquery->astroNN)\n",
            "  Downloading pyvo-1.5-py3-none-any.whl (909 kB)\n",
            "\u001b[2K     \u001b[90m━━━━━━━━━━━━━━━━━━━━━━━━━━━━━━━━━━━━━━━━\u001b[0m \u001b[32m909.7/909.7 kB\u001b[0m \u001b[31m48.9 MB/s\u001b[0m eta \u001b[36m0:00:00\u001b[0m\n",
            "\u001b[?25hRequirement already satisfied: contourpy>=1.0.1 in /usr/local/lib/python3.10/dist-packages (from matplotlib->astroNN) (1.2.0)\n",
            "Requirement already satisfied: cycler>=0.10 in /usr/local/lib/python3.10/dist-packages (from matplotlib->astroNN) (0.12.1)\n",
            "Requirement already satisfied: fonttools>=4.22.0 in /usr/local/lib/python3.10/dist-packages (from matplotlib->astroNN) (4.46.0)\n",
            "Requirement already satisfied: kiwisolver>=1.0.1 in /usr/local/lib/python3.10/dist-packages (from matplotlib->astroNN) (1.4.5)\n",
            "Requirement already satisfied: pillow>=6.2.0 in /usr/local/lib/python3.10/dist-packages (from matplotlib->astroNN) (9.4.0)\n",
            "Requirement already satisfied: pyparsing>=2.3.1 in /usr/local/lib/python3.10/dist-packages (from matplotlib->astroNN) (3.1.1)\n",
            "Requirement already satisfied: python-dateutil>=2.7 in /usr/local/lib/python3.10/dist-packages (from matplotlib->astroNN) (2.8.2)\n",
            "Requirement already satisfied: pytz>=2020.1 in /usr/local/lib/python3.10/dist-packages (from pandas->astroNN) (2023.3.post1)\n",
            "Requirement already satisfied: scipy>=1.3.2 in /usr/local/lib/python3.10/dist-packages (from scikit-learn->astroNN) (1.11.4)\n",
            "Requirement already satisfied: joblib>=1.1.1 in /usr/local/lib/python3.10/dist-packages (from scikit-learn->astroNN) (1.3.2)\n",
            "Requirement already satisfied: threadpoolctl>=2.0.0 in /usr/local/lib/python3.10/dist-packages (from scikit-learn->astroNN) (3.2.0)\n",
            "Requirement already satisfied: wheel<1.0,>=0.23.0 in /usr/local/lib/python3.10/dist-packages (from astunparse>=1.6.0->tensorflow>=2.11.0->astroNN) (0.42.0)\n",
            "Requirement already satisfied: soupsieve>1.2 in /usr/local/lib/python3.10/dist-packages (from beautifulsoup4>=4.3.2->astroquery->astroNN) (2.5)\n",
            "Requirement already satisfied: webencodings in /usr/local/lib/python3.10/dist-packages (from html5lib>=0.999->astroquery->astroNN) (0.5.1)\n",
            "Requirement already satisfied: charset-normalizer<4,>=2 in /usr/local/lib/python3.10/dist-packages (from requests>=2.4.3->astroquery->astroNN) (3.3.2)\n",
            "Requirement already satisfied: idna<4,>=2.5 in /usr/local/lib/python3.10/dist-packages (from requests>=2.4.3->astroquery->astroNN) (3.6)\n",
            "Requirement already satisfied: urllib3<3,>=1.21.1 in /usr/local/lib/python3.10/dist-packages (from requests>=2.4.3->astroquery->astroNN) (2.0.7)\n",
            "Requirement already satisfied: certifi>=2017.4.17 in /usr/local/lib/python3.10/dist-packages (from requests>=2.4.3->astroquery->astroNN) (2023.11.17)\n",
            "Requirement already satisfied: google-auth<3,>=1.6.3 in /usr/local/lib/python3.10/dist-packages (from tensorboard<2.16,>=2.15->tensorflow>=2.11.0->astroNN) (2.17.3)\n",
            "Requirement already satisfied: google-auth-oauthlib<2,>=0.5 in /usr/local/lib/python3.10/dist-packages (from tensorboard<2.16,>=2.15->tensorflow>=2.11.0->astroNN) (1.2.0)\n",
            "Requirement already satisfied: markdown>=2.6.8 in /usr/local/lib/python3.10/dist-packages (from tensorboard<2.16,>=2.15->tensorflow>=2.11.0->astroNN) (3.5.1)\n",
            "Requirement already satisfied: tensorboard-data-server<0.8.0,>=0.7.0 in /usr/local/lib/python3.10/dist-packages (from tensorboard<2.16,>=2.15->tensorflow>=2.11.0->astroNN) (0.7.2)\n",
            "Requirement already satisfied: werkzeug>=1.0.1 in /usr/local/lib/python3.10/dist-packages (from tensorboard<2.16,>=2.15->tensorflow>=2.11.0->astroNN) (3.0.1)\n",
            "Requirement already satisfied: cachetools<6.0,>=2.0.0 in /usr/local/lib/python3.10/dist-packages (from google-auth<3,>=1.6.3->tensorboard<2.16,>=2.15->tensorflow>=2.11.0->astroNN) (5.3.2)\n",
            "Requirement already satisfied: pyasn1-modules>=0.2.1 in /usr/local/lib/python3.10/dist-packages (from google-auth<3,>=1.6.3->tensorboard<2.16,>=2.15->tensorflow>=2.11.0->astroNN) (0.3.0)\n",
            "Requirement already satisfied: rsa<5,>=3.1.4 in /usr/local/lib/python3.10/dist-packages (from google-auth<3,>=1.6.3->tensorboard<2.16,>=2.15->tensorflow>=2.11.0->astroNN) (4.9)\n",
            "Requirement already satisfied: requests-oauthlib>=0.7.0 in /usr/local/lib/python3.10/dist-packages (from google-auth-oauthlib<2,>=0.5->tensorboard<2.16,>=2.15->tensorflow>=2.11.0->astroNN) (1.3.1)\n",
            "Requirement already satisfied: MarkupSafe>=2.1.1 in /usr/local/lib/python3.10/dist-packages (from werkzeug>=1.0.1->tensorboard<2.16,>=2.15->tensorflow>=2.11.0->astroNN) (2.1.3)\n",
            "Requirement already satisfied: pyasn1<0.6.0,>=0.4.6 in /usr/local/lib/python3.10/dist-packages (from pyasn1-modules>=0.2.1->google-auth<3,>=1.6.3->tensorboard<2.16,>=2.15->tensorflow>=2.11.0->astroNN) (0.5.1)\n",
            "Requirement already satisfied: oauthlib>=3.0.0 in /usr/local/lib/python3.10/dist-packages (from requests-oauthlib>=0.7.0->google-auth-oauthlib<2,>=0.5->tensorboard<2.16,>=2.15->tensorflow>=2.11.0->astroNN) (3.2.2)\n",
            "Installing collected packages: pyvo, astroquery, astroNN\n",
            "Successfully installed astroNN-1.1.0 astroquery-0.4.6 pyvo-1.5\n"
          ]
        }
      ]
    },
    {
      "cell_type": "code",
      "source": [
        "from sklearn.model_selection import train_test_split\n",
        "from astroNN.models import Galaxy10CNN\n",
        "from astroNN.datasets import load_galaxy10sdss\n",
        "from tensorflow.keras.utils import to_categorical\n",
        "from tensorflow.keras.optimizers import Adam\n",
        "from astroNN.datasets.galaxy10sdss import galaxy10cls_lookup\n"
      ],
      "metadata": {
        "id": "BmKDHahrH0IB"
      },
      "execution_count": null,
      "outputs": []
    },
    {
      "cell_type": "code",
      "source": [
        "images, labels = load_galaxy10sdss()\n"
      ],
      "metadata": {
        "colab": {
          "base_uri": "https://localhost:8080/"
        },
        "id": "gwUIKfVYH2xT",
        "outputId": "ac563b28-3eca-4c1a-ee2d-2f794bbdc8db"
      },
      "execution_count": null,
      "outputs": [
        {
          "output_type": "stream",
          "name": "stderr",
          "text": [
            "Galaxy10.h5:  99%|█████████▉| 208M/210M [00:04<00:00, 56.1MB/s]"
          ]
        },
        {
          "output_type": "stream",
          "name": "stdout",
          "text": [
            "Downloaded Galaxy10 successfully to /root/.astroNN/datasets/Galaxy10.h5\n"
          ]
        },
        {
          "output_type": "stream",
          "name": "stderr",
          "text": [
            "\rGalaxy10.h5: 210MB [00:04, 42.1MB/s]                           \n"
          ]
        }
      ]
    },
    {
      "cell_type": "code",
      "source": [
        "labels = to_categorical(labels, 10)\n",
        "\n",
        "# To convert to desirable type\n",
        "labels = labels.astype(np.float32)\n",
        "images = images.astype(np.float32)/255"
      ],
      "metadata": {
        "id": "s9TN3-9hSRvT"
      },
      "execution_count": null,
      "outputs": []
    },
    {
      "cell_type": "code",
      "source": [
        "train_idx, test_idx = train_test_split(np.arange(labels.shape[0]), test_size=0.1)\n",
        "images_train , labels_train, images_test , labels_test  = images[train_idx], labels[train_idx], images[test_idx], labels[test_idx]"
      ],
      "metadata": {
        "id": "oJkWzd38SgXO"
      },
      "execution_count": null,
      "outputs": []
    },
    {
      "cell_type": "code",
      "source": [
        "print(\"images_train shape:\", images_train.shape)\n",
        "print(\"labels_train shape:\", labels_train.shape)\n",
        "print(\"images_test shape:\", images_test.shape)\n",
        "print(\"labels_test shape:\", labels_test.shape)"
      ],
      "metadata": {
        "colab": {
          "base_uri": "https://localhost:8080/"
        },
        "id": "BHw6v97fQfDo",
        "outputId": "c350edff-30ff-41ca-898a-b667eb16d733"
      },
      "execution_count": null,
      "outputs": [
        {
          "output_type": "stream",
          "name": "stdout",
          "text": [
            "images_train shape: (19606, 69, 69, 3)\n",
            "labels_train shape: (19606, 10)\n",
            "images_test shape: (2179, 69, 69, 3)\n",
            "labels_test shape: (2179, 10)\n"
          ]
        }
      ]
    },
    {
      "cell_type": "code",
      "source": [
        "img_width=images.shape[1]\n",
        "img_height=images.shape[2]\n",
        "img_width,img_height"
      ],
      "metadata": {
        "colab": {
          "base_uri": "https://localhost:8080/"
        },
        "id": "URisuRR5H6FS",
        "outputId": "4fb079a4-c97b-4625-fe57-a90faf62d471"
      },
      "execution_count": null,
      "outputs": [
        {
          "output_type": "execute_result",
          "data": {
            "text/plain": [
              "(69, 69)"
            ]
          },
          "metadata": {},
          "execution_count": 8
        }
      ]
    },
    {
      "cell_type": "code",
      "source": [
        "class Sampling(tf.keras.layers.Layer):\n",
        "    def call(self, inputs):\n",
        "        mean, log_var = inputs\n",
        "        return tf.random.normal(tf.shape(log_var)) * tf.exp(log_var / 2) + mean"
      ],
      "metadata": {
        "id": "nLRkF92VIB0w"
      },
      "execution_count": null,
      "outputs": []
    },
    {
      "cell_type": "code",
      "source": [
        "codings_size = 2\n",
        "\n",
        "inputs = Input(shape=(69,69,3), name='encoder_input')\n",
        "x = Conv2D(32, 3, padding='same', activation='relu')(inputs)\n",
        "x = Conv2D(64, 3, padding='same', activation='relu',strides=(3, 3))(x)\n",
        "x = Conv2D(64, 3, padding='same', activation='relu')(x)\n",
        "x = Conv2D(64, 3, padding='same', activation='relu')(x)\n",
        "\n",
        "conv_shape=tf.shape(x)\n",
        "\n",
        "x = Flatten()(x)\n",
        "x = Dense(150, activation=\"relu\")(x)\n",
        "x = Dense(100, activation=\"relu\")(x)\n",
        "codings_mean = Dense(codings_size)(x)  # μ\n",
        "codings_log_var =Dense(codings_size)(x)  # γ\n",
        "codings = Sampling()([codings_mean, codings_log_var]) # z\n",
        "variational_encoder = models.Model(\n",
        "    inputs=[inputs], outputs=[codings_mean, codings_log_var, codings])"
      ],
      "metadata": {
        "id": "95DOTcP8IISy"
      },
      "execution_count": null,
      "outputs": []
    },
    {
      "cell_type": "code",
      "source": [
        "variational_encoder.summary()"
      ],
      "metadata": {
        "colab": {
          "base_uri": "https://localhost:8080/"
        },
        "id": "iItFm4CdLknN",
        "outputId": "03eff248-ad29-4be5-d147-72d741cfc068"
      },
      "execution_count": null,
      "outputs": [
        {
          "output_type": "stream",
          "name": "stdout",
          "text": [
            "Model: \"model\"\n",
            "__________________________________________________________________________________________________\n",
            " Layer (type)                Output Shape                 Param #   Connected to                  \n",
            "==================================================================================================\n",
            " encoder_input (InputLayer)  [(None, 69, 69, 3)]          0         []                            \n",
            "                                                                                                  \n",
            " conv2d (Conv2D)             (None, 69, 69, 32)           896       ['encoder_input[0][0]']       \n",
            "                                                                                                  \n",
            " conv2d_1 (Conv2D)           (None, 23, 23, 64)           18496     ['conv2d[0][0]']              \n",
            "                                                                                                  \n",
            " conv2d_2 (Conv2D)           (None, 23, 23, 64)           36928     ['conv2d_1[0][0]']            \n",
            "                                                                                                  \n",
            " conv2d_3 (Conv2D)           (None, 23, 23, 64)           36928     ['conv2d_2[0][0]']            \n",
            "                                                                                                  \n",
            " flatten (Flatten)           (None, 33856)                0         ['conv2d_3[0][0]']            \n",
            "                                                                                                  \n",
            " dense (Dense)               (None, 150)                  5078550   ['flatten[0][0]']             \n",
            "                                                                                                  \n",
            " dense_1 (Dense)             (None, 100)                  15100     ['dense[0][0]']               \n",
            "                                                                                                  \n",
            " dense_2 (Dense)             (None, 2)                    202       ['dense_1[0][0]']             \n",
            "                                                                                                  \n",
            " dense_3 (Dense)             (None, 2)                    202       ['dense_1[0][0]']             \n",
            "                                                                                                  \n",
            " sampling (Sampling)         (None, 2)                    0         ['dense_2[0][0]',             \n",
            "                                                                     'dense_3[0][0]']             \n",
            "                                                                                                  \n",
            "==================================================================================================\n",
            "Total params: 5187302 (19.79 MB)\n",
            "Trainable params: 5187302 (19.79 MB)\n",
            "Non-trainable params: 0 (0.00 Byte)\n",
            "__________________________________________________________________________________________________\n"
          ]
        }
      ]
    },
    {
      "cell_type": "code",
      "source": [
        "decoder_inputs = Input(shape=(codings_size,), name='decoder_input')\n",
        "\n",
        "x = Dense(23*23*64, activation='relu')(decoder_inputs)\n",
        "x = Reshape((23,23,64))(x)\n",
        "\n",
        "x=Conv2DTranspose(64,3, activation='relu', padding='same', strides=(3,3))(x)\n",
        "x=Conv2DTranspose(3 ,3, activation='sigmoid', padding='same' )(x)              # Sigmoid for RGB images\n",
        "\n",
        "variational_decoder = tf.keras.Model(inputs=[decoder_inputs], outputs=x)"
      ],
      "metadata": {
        "id": "iGZ3TwEHYKVY"
      },
      "execution_count": null,
      "outputs": []
    },
    {
      "cell_type": "code",
      "source": [
        "_, _, codings = variational_encoder(inputs)\n",
        "reconstructions = variational_decoder(codings)\n",
        "variational_ae = tf.keras.Model(inputs=[inputs], outputs=[reconstructions]) # Combining encoder and decoder to form a VAE"
      ],
      "metadata": {
        "id": "OpZZri6MYNpM"
      },
      "execution_count": null,
      "outputs": []
    },
    {
      "cell_type": "code",
      "source": [
        "latent_loss = -0.5 * tf.reduce_sum(\n",
        "    1 + codings_log_var - tf.exp(codings_log_var) - tf.square(codings_mean),\n",
        "    axis=-1)\n",
        "variational_ae.add_loss(tf.reduce_mean(latent_loss) / (69*69*3))"
      ],
      "metadata": {
        "id": "73ZPjXaxYRaG"
      },
      "execution_count": null,
      "outputs": []
    },
    {
      "cell_type": "code",
      "source": [
        "variational_ae.compile(loss=\"mse\", optimizer=\"nadam\")\n",
        "history = variational_ae.fit(images_train, images_train, epochs=25, batch_size=32, validation_data=(images_test, images_test))"
      ],
      "metadata": {
        "colab": {
          "base_uri": "https://localhost:8080/"
        },
        "id": "IklRbl3UYT-1",
        "outputId": "18c1c909-73d5-4738-f562-e8d89db7e8a1"
      },
      "execution_count": null,
      "outputs": [
        {
          "output_type": "stream",
          "name": "stdout",
          "text": [
            "Train on 19606 samples, validate on 2179 samples\n",
            "Epoch 1/25\n",
            "19606/19606 [==============================] - ETA: 0s - loss: 0.0119"
          ]
        },
        {
          "output_type": "stream",
          "name": "stderr",
          "text": [
            "/usr/local/lib/python3.10/dist-packages/keras/src/engine/training_v1.py:2335: UserWarning: `Model.state_updates` will be removed in a future version. This property should not be used in TensorFlow 2.0, as `updates` are applied automatically.\n"
          ]
        },
        {
          "output_type": "stream",
          "name": "stdout",
          "text": [
            "\b\b\b\b\b\b\b\b\b\b\b\b\b\b\b\b\b\b\b\b\b\b\b\b\b\b\b\b\b\b\b\b\b\b\b\b\b\b\b\b\b\b\b\b\b\b\b\b\b\b\b\b\b\b\b\b\b\b\b\b\b\b\b\b\b\b\b\b\b\r19606/19606 [==============================] - 27s 1ms/sample - loss: 0.0119 - val_loss: 0.0031\n",
            "Epoch 2/25\n",
            "19606/19606 [==============================] - 17s 855us/sample - loss: 0.0031 - val_loss: 0.0028\n",
            "Epoch 3/25\n",
            "19606/19606 [==============================] - 15s 741us/sample - loss: 0.0029 - val_loss: 0.0026\n",
            "Epoch 4/25\n",
            "19606/19606 [==============================] - 15s 746us/sample - loss: 0.0028 - val_loss: 0.0026\n",
            "Epoch 5/25\n",
            "19606/19606 [==============================] - 14s 732us/sample - loss: 0.0028 - val_loss: 0.0026\n",
            "Epoch 6/25\n",
            "19606/19606 [==============================] - 14s 737us/sample - loss: 0.0028 - val_loss: 0.0026\n",
            "Epoch 7/25\n",
            "19606/19606 [==============================] - 15s 744us/sample - loss: 0.0028 - val_loss: 0.0026\n",
            "Epoch 8/25\n",
            "19606/19606 [==============================] - 15s 773us/sample - loss: 0.0028 - val_loss: 0.0025\n",
            "Epoch 9/25\n",
            "19606/19606 [==============================] - 15s 740us/sample - loss: 0.0028 - val_loss: 0.0025\n",
            "Epoch 10/25\n",
            "19606/19606 [==============================] - 14s 725us/sample - loss: 0.0027 - val_loss: 0.0025\n",
            "Epoch 11/25\n",
            "19606/19606 [==============================] - 15s 742us/sample - loss: 0.0027 - val_loss: 0.0025\n",
            "Epoch 12/25\n",
            "19606/19606 [==============================] - 15s 749us/sample - loss: 0.0027 - val_loss: 0.0025\n",
            "Epoch 13/25\n",
            "19606/19606 [==============================] - 14s 728us/sample - loss: 0.0027 - val_loss: 0.0025\n",
            "Epoch 14/25\n",
            "19606/19606 [==============================] - 15s 748us/sample - loss: 0.0027 - val_loss: 0.0025\n",
            "Epoch 15/25\n",
            "19606/19606 [==============================] - 14s 732us/sample - loss: 0.0027 - val_loss: 0.0025\n",
            "Epoch 16/25\n",
            "19606/19606 [==============================] - 14s 727us/sample - loss: 0.0027 - val_loss: 0.0024\n",
            "Epoch 17/25\n",
            "19606/19606 [==============================] - 14s 732us/sample - loss: 0.0027 - val_loss: 0.0025\n",
            "Epoch 18/25\n",
            "19606/19606 [==============================] - 14s 719us/sample - loss: 0.0026 - val_loss: 0.0025\n",
            "Epoch 19/25\n",
            "19606/19606 [==============================] - 14s 722us/sample - loss: 0.0026 - val_loss: 0.0024\n",
            "Epoch 20/25\n",
            "19606/19606 [==============================] - 14s 727us/sample - loss: 0.0026 - val_loss: 0.0025\n",
            "Epoch 21/25\n",
            "19606/19606 [==============================] - 14s 726us/sample - loss: 0.0026 - val_loss: 0.0024\n",
            "Epoch 22/25\n",
            "19606/19606 [==============================] - 15s 758us/sample - loss: 0.0026 - val_loss: 0.0024\n",
            "Epoch 23/25\n",
            "19606/19606 [==============================] - 14s 732us/sample - loss: 0.0026 - val_loss: 0.0024\n",
            "Epoch 24/25\n",
            "19606/19606 [==============================] - 14s 727us/sample - loss: 0.0026 - val_loss: 0.0024\n",
            "Epoch 25/25\n",
            "19606/19606 [==============================] - 14s 723us/sample - loss: 0.0026 - val_loss: 0.0024\n"
          ]
        }
      ]
    },
    {
      "cell_type": "code",
      "source": [
        "encoded_images_train = variational_encoder.predict(images_train/)\n",
        "encoded_images_test = variational_encoder.predict(images_test)"
      ],
      "metadata": {
        "colab": {
          "base_uri": "https://localhost:8080/"
        },
        "id": "2h4VFmfAeN6c",
        "outputId": "0ef4df0a-5708-4da1-c7c5-24b832cb46b5"
      },
      "execution_count": null,
      "outputs": [
        {
          "output_type": "stream",
          "name": "stderr",
          "text": [
            "/usr/local/lib/python3.10/dist-packages/keras/src/engine/training_v1.py:2359: UserWarning: `Model.state_updates` will be removed in a future version. This property should not be used in TensorFlow 2.0, as `updates` are applied automatically.\n"
          ]
        }
      ]
    },
    {
      "cell_type": "code",
      "source": [
        "classifier = Sequential()\n",
        "classifier.add(Dense(512, activation='relu', input_shape=(codings_size,)))\n",
        "classifier.add(Dropout(0.5))\n",
        "classifier.add(Dense(256, activation='relu'))\n",
        "classifier.add(Dropout(0.5))\n",
        "classifier.add(Dense(128, activation='relu'))\n",
        "classifier.add(Dropout(0.5))\n",
        "classifier.add(Dense(64, activation='relu'))\n",
        "classifier.add(Dropout(0.5))\n",
        "classifier.add(Dense(32, activation='relu'))\n",
        "classifier.add(Dropout(0.5))\n",
        "classifier.add(Dense(10, activation='softmax'))\n",
        "\n",
        "# Compile the classifier\n",
        "classifier.compile(optimizer='adam', loss='categorical_crossentropy', metrics=['accuracy'])\n",
        "\n",
        "# Train the classifier using the encoded features and labels\n",
        "classifier.fit(encoded_images_train, labels_train, epochs=20, batch_size=128, validation_data=(encoded_images_test, labels_test))"
      ],
      "metadata": {
        "colab": {
          "base_uri": "https://localhost:8080/"
        },
        "id": "0DTbSrWiaXJL",
        "outputId": "54ba50f5-8a6b-475b-d0fa-7962e4450955"
      },
      "execution_count": null,
      "outputs": [
        {
          "output_type": "stream",
          "name": "stdout",
          "text": [
            "Train on 19606 samples, validate on 2179 samples\n",
            "Epoch 1/20\n",
            "19606/19606 [==============================] - 1s 44us/sample - loss: 1.9567 - acc: 0.2894 - val_loss: 1.6015 - val_acc: 0.3786\n",
            "Epoch 2/20\n",
            "19606/19606 [==============================] - 0s 24us/sample - loss: 1.6980 - acc: 0.3992 - val_loss: 1.4735 - val_acc: 0.5108\n",
            "Epoch 3/20\n",
            "19606/19606 [==============================] - 0s 25us/sample - loss: 1.5964 - acc: 0.4652 - val_loss: 1.4309 - val_acc: 0.5333\n",
            "Epoch 4/20\n",
            "19606/19606 [==============================] - 0s 25us/sample - loss: 1.5467 - acc: 0.4850 - val_loss: 1.4037 - val_acc: 0.5278\n",
            "Epoch 5/20\n",
            "19606/19606 [==============================] - 0s 25us/sample - loss: 1.5283 - acc: 0.4923 - val_loss: 1.3954 - val_acc: 0.5392\n",
            "Epoch 6/20\n",
            "19606/19606 [==============================] - 0s 25us/sample - loss: 1.5109 - acc: 0.4996 - val_loss: 1.3849 - val_acc: 0.5356\n",
            "Epoch 7/20\n",
            "19606/19606 [==============================] - 0s 25us/sample - loss: 1.5050 - acc: 0.5006 - val_loss: 1.3806 - val_acc: 0.5406\n",
            "Epoch 8/20\n",
            "19606/19606 [==============================] - 0s 24us/sample - loss: 1.4905 - acc: 0.5016 - val_loss: 1.3788 - val_acc: 0.5383\n",
            "Epoch 9/20\n",
            "19606/19606 [==============================] - 0s 25us/sample - loss: 1.4908 - acc: 0.5027 - val_loss: 1.3793 - val_acc: 0.5310\n",
            "Epoch 10/20\n",
            "19606/19606 [==============================] - 0s 24us/sample - loss: 1.4863 - acc: 0.5053 - val_loss: 1.3786 - val_acc: 0.5305\n",
            "Epoch 11/20\n",
            "19606/19606 [==============================] - 0s 24us/sample - loss: 1.4824 - acc: 0.5069 - val_loss: 1.3693 - val_acc: 0.5438\n",
            "Epoch 12/20\n",
            "19606/19606 [==============================] - 0s 25us/sample - loss: 1.4734 - acc: 0.5086 - val_loss: 1.3683 - val_acc: 0.5351\n",
            "Epoch 13/20\n",
            "19606/19606 [==============================] - 1s 36us/sample - loss: 1.4663 - acc: 0.5087 - val_loss: 1.3588 - val_acc: 0.5461\n",
            "Epoch 14/20\n",
            "19606/19606 [==============================] - 1s 36us/sample - loss: 1.4679 - acc: 0.5093 - val_loss: 1.3606 - val_acc: 0.5282\n",
            "Epoch 15/20\n",
            "19606/19606 [==============================] - 1s 35us/sample - loss: 1.4642 - acc: 0.5072 - val_loss: 1.3527 - val_acc: 0.5397\n",
            "Epoch 16/20\n",
            "19606/19606 [==============================] - 1s 33us/sample - loss: 1.4626 - acc: 0.5062 - val_loss: 1.3603 - val_acc: 0.5365\n",
            "Epoch 17/20\n",
            "19606/19606 [==============================] - 0s 24us/sample - loss: 1.4572 - acc: 0.5108 - val_loss: 1.3544 - val_acc: 0.5287\n",
            "Epoch 18/20\n",
            "19606/19606 [==============================] - 0s 25us/sample - loss: 1.4517 - acc: 0.5104 - val_loss: 1.3561 - val_acc: 0.5406\n",
            "Epoch 19/20\n",
            "19606/19606 [==============================] - 0s 24us/sample - loss: 1.4542 - acc: 0.5134 - val_loss: 1.3456 - val_acc: 0.5429\n",
            "Epoch 20/20\n",
            "19606/19606 [==============================] - 0s 24us/sample - loss: 1.4454 - acc: 0.5115 - val_loss: 1.3565 - val_acc: 0.5489\n"
          ]
        },
        {
          "output_type": "execute_result",
          "data": {
            "text/plain": [
              "<keras.src.callbacks.History at 0x7c43803e81f0>"
            ]
          },
          "metadata": {},
          "execution_count": 41
        }
      ]
    },
    {
      "cell_type": "code",
      "source": [
        "from sklearn.metrics import confusion_matrix, classification_report\n",
        "import seaborn as sns\n",
        "\n",
        "\n",
        "confusion_mtx = confusion_matrix(true_classes, predicted_classes)\n",
        "\n",
        "# Plot the confusion matrix\n",
        "plt.figure(figsize=(8, 6))\n",
        "sns.heatmap(confusion_mtx, annot=True, fmt='d', cmap='Blues', xticklabels=np.unique(true_classes), yticklabels=np.unique(true_classes))\n",
        "plt.title('Confusion Matrix')\n",
        "plt.xlabel('Predicted')\n",
        "plt.ylabel('True')\n",
        "plt.show()\n",
        "\n",
        "# Display the classification report\n",
        "print(\"Classification Report:\\n\", classification_report(true_classes, predicted_classes))"
      ],
      "metadata": {
        "colab": {
          "base_uri": "https://localhost:8080/",
          "height": 931
        },
        "id": "QyLp96bygoL9",
        "outputId": "14cd0a88-feef-4fd7-a143-1cbf021e0ab7"
      },
      "execution_count": null,
      "outputs": [
        {
          "output_type": "display_data",
          "data": {
            "text/plain": [
              "<Figure size 800x600 with 2 Axes>"
            ],
            "image/png": "[encoded data removed]"
          },
          "metadata": {}
        },
        {
          "output_type": "stream",
          "name": "stdout",
          "text": [
            "Classification Report:\n",
            "               precision    recall  f1-score   support\n",
            "\n",
            "           0       0.21      0.01      0.02       345\n",
            "           1       0.55      0.90      0.68       697\n",
            "           2       0.56      0.70      0.62       669\n",
            "           3       0.00      0.00      0.00        32\n",
            "           4       0.49      0.51      0.50       138\n",
            "           6       0.64      0.58      0.61        60\n",
            "           7       0.00      0.00      0.00       102\n",
            "           8       0.00      0.00      0.00        79\n",
            "           9       0.00      0.00      0.00        57\n",
            "\n",
            "    accuracy                           0.55      2179\n",
            "   macro avg       0.27      0.30      0.27      2179\n",
            "weighted avg       0.43      0.55      0.46      2179\n",
            "\n"
          ]
        },
        {
          "output_type": "stream",
          "name": "stderr",
          "text": [
            "/usr/local/lib/python3.10/dist-packages/sklearn/metrics/_classification.py:1344: UndefinedMetricWarning: Precision and F-score are ill-defined and being set to 0.0 in labels with no predicted samples. Use `zero_division` parameter to control this behavior.\n",
            "/usr/local/lib/python3.10/dist-packages/sklearn/metrics/_classification.py:1344: UndefinedMetricWarning: Precision and F-score are ill-defined and being set to 0.0 in labels with no predicted samples. Use `zero_division` parameter to control this behavior.\n",
            "/usr/local/lib/python3.10/dist-packages/sklearn/metrics/_classification.py:1344: UndefinedMetricWarning: Precision and F-score are ill-defined and being set to 0.0 in labels with no predicted samples. Use `zero_division` parameter to control this behavior.\n"
          ]
        }
      ]
    }
  ]
}